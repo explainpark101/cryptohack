{
 "cells": [
  {
   "cell_type": "markdown",
   "metadata": {},
   "source": [
    "# RSA Starter\n",
    "[\"문제풀러가기\"](https://cryptohack.org/challenges/rsa/)"
   ]
  },
  {
   "cell_type": "markdown",
   "metadata": {},
   "source": [
    "## starter 01"
   ]
  },
  {
   "cell_type": "code",
   "execution_count": 1,
   "metadata": {},
   "outputs": [
    {
     "data": {
      "text/plain": [
       "19906"
      ]
     },
     "execution_count": 1,
     "metadata": {},
     "output_type": "execute_result"
    }
   ],
   "source": [
    "# Starter 01\n",
    "pow(101, 17, 22663)"
   ]
  },
  {
   "cell_type": "markdown",
   "metadata": {},
   "source": [
    "## starter 02"
   ]
  },
  {
   "cell_type": "code",
   "execution_count": 4,
   "metadata": {},
   "outputs": [
    {
     "data": {
      "text/plain": [
       "301"
      ]
     },
     "execution_count": 4,
     "metadata": {},
     "output_type": "execute_result"
    }
   ],
   "source": [
    "# Starter 02\n",
    "\"p:int; q:int; N = p * q\"\n",
    "e = 65537\n",
    "p = 17\n",
    "q = 23\n",
    "N = 17 * 23\n",
    "plain = 12\n",
    "cipher = pow(12, e, N)\n",
    "cipher"
   ]
  },
  {
   "cell_type": "markdown",
   "metadata": {},
   "source": [
    "## Starter 03"
   ]
  },
  {
   "cell_type": "code",
   "execution_count": null,
   "metadata": {},
   "outputs": [],
   "source": [
    "import math\n",
    "def get_prime_factors(n) -> dict:\n",
    "    s = dict()\n",
    "    while (not(n&0x01)):\n",
    "        s[2] = s.get(2, 0) + 1 \n",
    "        n >>= 1\n",
    "    for i in range(3, math.isqrt(n), 2):\n",
    "        while (n % i == 0) :\n",
    "            s[i] = s.get(i, 0) + 1 \n",
    "            n //= i \n",
    "    if (n > 2):\n",
    "        s[n] = s.get(n, 0) + 1 \n",
    "    return s"
   ]
  },
  {
   "cell_type": "code",
   "execution_count": 5,
   "metadata": {},
   "outputs": [
    {
     "data": {
      "text/plain": [
       "882564595536224140639625987657529300394956519977044270821168"
      ]
     },
     "execution_count": 5,
     "metadata": {},
     "output_type": "execute_result"
    }
   ],
   "source": [
    "(857504083339712752489993810777-1) * (1029224947942998075080348647219-1)"
   ]
  },
  {
   "cell_type": "markdown",
   "metadata": {},
   "source": [
    "## Starter 4"
   ]
  },
  {
   "cell_type": "code",
   "execution_count": 17,
   "metadata": {},
   "outputs": [
    {
     "data": {
      "text/plain": [
       "121832886702415731577073962957377780195510499965398469843281"
      ]
     },
     "execution_count": 17,
     "metadata": {},
     "output_type": "execute_result"
    }
   ],
   "source": [
    "def extended_gcd(a:int, b:int, printing=False) -> tuple[int, int, int]:\n",
    "    \"\"\"\n",
    "    @returns gcd, s, t\n",
    "    \"\"\"\n",
    "    if b == 0:\n",
    "        return a, 0, 1\n",
    "    q, r = divmod(a, b)\n",
    "    gcd, s, t = extended_gcd(b, r, printing)\n",
    "    s, t = t - q*s, s\n",
    "    if printing: print(f\"({r=:5}) = ({a=:5}) - ({b=:5}) * ({q=:5}) | {s=:6} {t=:6}\")\n",
    "    return gcd, s, t\n",
    "\n",
    "inv_e = extended_gcd(e, 857504083339712752489993810776*1029224947942998075080348647218)[2]\n",
    "inv_e"
   ]
  },
  {
   "cell_type": "markdown",
   "metadata": {},
   "source": [
    "## Starter 5"
   ]
  },
  {
   "cell_type": "code",
   "execution_count": 9,
   "metadata": {},
   "outputs": [
    {
     "data": {
      "text/plain": [
       "13371337"
      ]
     },
     "execution_count": 9,
     "metadata": {},
     "output_type": "execute_result"
    }
   ],
   "source": [
    "N = 882564595536224140639625987659416029426239230804614613279163\n",
    "e = 65537\n",
    "c = 77578995801157823671636298847186723593814843845525223303932\n",
    "private_key = 121832886702415731577073962957377780195510499965398469843281\n",
    "\n",
    "pow(c, private_key, N)"
   ]
  },
  {
   "cell_type": "markdown",
   "metadata": {},
   "source": [
    "# Starter 6"
   ]
  },
  {
   "cell_type": "code",
   "execution_count": 1,
   "metadata": {},
   "outputs": [],
   "source": [
    "import hashlib, requests\n",
    "from Crypto.Util.number import inverse\n",
    "_ = requests.get('https://cryptohack.org/static/challenges/private_0a1880d1fffce9403686130a1f932b10.key').text.split(\"\\n\")[:2]\n",
    "_list = []\n",
    "for int1 in _:\n",
    "    _list.append(int(int1.split(\"=\")[1].strip()))\n",
    "N, d = _list\n",
    "flag = int(hashlib.sha256(b\"crypto{Immut4ble_m3ssag1ng}\").hexdigest(), 16)"
   ]
  },
  {
   "cell_type": "code",
   "execution_count": 23,
   "metadata": {},
   "outputs": [
    {
     "data": {
      "text/plain": [
       "13480738404590090803339831649238454376183189744970683129909766078877706583282422686710545217275797376709672358894231550335007974983458408620258478729775647818876610072903021235573923300070103666940534047644900475773318682585772698155617451477448441198150710420818995347235921111812068656782998168064960965451719491072569057636701190429760047193261886092862024118487826452766513533860734724124228305158914225250488399673645732882077575252662461860972889771112594906884441454355959482925283992539925713424132009768721389828848907099772040836383856524605008942907083490383109757406940540866978237471686296661685839083475"
      ]
     },
     "execution_count": 23,
     "metadata": {},
     "output_type": "execute_result"
    }
   ],
   "source": [
    "pow(flag, d, N)"
   ]
  }
 ],
 "metadata": {
  "kernelspec": {
   "display_name": "crypto-venv",
   "language": "python",
   "name": "python3"
  },
  "language_info": {
   "codemirror_mode": {
    "name": "ipython",
    "version": 3
   },
   "file_extension": ".py",
   "mimetype": "text/x-python",
   "name": "python",
   "nbconvert_exporter": "python",
   "pygments_lexer": "ipython3",
   "version": "3.12.0"
  }
 },
 "nbformat": 4,
 "nbformat_minor": 2
}
