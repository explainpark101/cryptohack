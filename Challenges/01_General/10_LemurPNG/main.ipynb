{
 "cells": [
  {
   "cell_type": "code",
   "execution_count": 28,
   "metadata": {},
   "outputs": [],
   "source": [
    "import cv2\n",
    "import numpy as np\n",
    "from pprint import pprint"
   ]
  },
  {
   "cell_type": "code",
   "execution_count": 29,
   "metadata": {},
   "outputs": [],
   "source": [
    "flag = cv2.imread('flag.png')\n",
    "lemur = cv2.imread('lemur.png')"
   ]
  },
  {
   "cell_type": "code",
   "execution_count": 34,
   "metadata": {},
   "outputs": [
    {
     "data": {
      "text/plain": [
       "array([247, 243, 247], dtype=uint8)"
      ]
     },
     "execution_count": 34,
     "metadata": {},
     "output_type": "execute_result"
    }
   ],
   "source": [
    "flag[0][0]"
   ]
  },
  {
   "cell_type": "code",
   "execution_count": 25,
   "metadata": {},
   "outputs": [
    {
     "data": {
      "text/plain": [
       "array([[[ 59,  50,  50],\n",
       "        [ 59,  50,  50],\n",
       "        [ 59,  50,  50],\n",
       "        ...,\n",
       "        [ 72,  95,  80],\n",
       "        [ 68,  66,  71],\n",
       "        [ 68,  66,  71]],\n",
       "\n",
       "       [[ 59,  50,  50],\n",
       "        [ 59,  50,  50],\n",
       "        [ 59,  50,  50],\n",
       "        ...,\n",
       "        [ 86,  83,  87],\n",
       "        [ 86,  83,  87],\n",
       "        [ 86,  83,  87]],\n",
       "\n",
       "       [[ 59,  50,  50],\n",
       "        [ 59,  50,  50],\n",
       "        [ 59,  50,  50],\n",
       "        ...,\n",
       "        [ 98, 127, 120],\n",
       "        [ 98, 127, 120],\n",
       "        [ 98, 127, 120]],\n",
       "\n",
       "       ...,\n",
       "\n",
       "       [[ 59,  50,  50],\n",
       "        [ 59,  50,  50],\n",
       "        [ 59,  50,  50],\n",
       "        ...,\n",
       "        [108, 109,  99],\n",
       "        [108, 109,  99],\n",
       "        [108, 109,  99]],\n",
       "\n",
       "       [[ 59,  50,  50],\n",
       "        [ 59,  50,  50],\n",
       "        [ 59,  50,  50],\n",
       "        ...,\n",
       "        [108, 109,  99],\n",
       "        [ 86,  83,  87],\n",
       "        [ 86,  83,  87]],\n",
       "\n",
       "       [[ 59,  50,  50],\n",
       "        [ 59,  50,  50],\n",
       "        [ 59,  50,  50],\n",
       "        ...,\n",
       "        [ 86,  83,  87],\n",
       "        [ 72,  95,  80],\n",
       "        [ 72,  95,  80]]], dtype=uint8)"
      ]
     },
     "execution_count": 25,
     "metadata": {},
     "output_type": "execute_result"
    }
   ],
   "source": [
    "xored = np.bitwise_xor(flag, lemur)\n",
    "xored"
   ]
  },
  {
   "cell_type": "code",
   "execution_count": 26,
   "metadata": {},
   "outputs": [
    {
     "data": {
      "text/plain": [
       "True"
      ]
     },
     "execution_count": 26,
     "metadata": {},
     "output_type": "execute_result"
    }
   ],
   "source": [
    "cv2.imwrite(\"result.png\", xored)"
   ]
  }
 ],
 "metadata": {
  "kernelspec": {
   "display_name": "crypto-venv",
   "language": "python",
   "name": "python3"
  },
  "language_info": {
   "codemirror_mode": {
    "name": "ipython",
    "version": 3
   },
   "file_extension": ".py",
   "mimetype": "text/x-python",
   "name": "python",
   "nbconvert_exporter": "python",
   "pygments_lexer": "ipython3",
   "version": "3.12.0"
  },
  "orig_nbformat": 4
 },
 "nbformat": 4,
 "nbformat_minor": 2
}
