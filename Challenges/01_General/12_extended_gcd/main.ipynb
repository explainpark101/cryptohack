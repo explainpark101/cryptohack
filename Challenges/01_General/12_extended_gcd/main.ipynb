{
 "cells": [
  {
   "cell_type": "code",
   "execution_count": 4,
   "metadata": {},
   "outputs": [],
   "source": [
    "def gcd(a, b, init=True):\n",
    "    if init:\n",
    "        a, b = max(a, b), min(a, b)\n",
    "    q, r = divmod(a, b)\n",
    "    if r == 1: return b\n",
    "    return gcd(b, r, init=False)"
   ]
  },
  {
   "cell_type": "code",
   "execution_count": 6,
   "metadata": {},
   "outputs": [
    {
     "data": {
      "text/plain": [
       "5"
      ]
     },
     "execution_count": 6,
     "metadata": {},
     "output_type": "execute_result"
    }
   ],
   "source": [
    "gcd(15013, 52341)"
   ]
  },
  {
   "cell_type": "code",
   "execution_count": 32,
   "metadata": {},
   "outputs": [],
   "source": [
    "def gcd_extend(a, b, init=True):\n",
    "    if init is True:\n",
    "        init = 0\n",
    "        a, b = max(a, b), min(a, b)\n",
    "    q, r = divmod(a, b)\n",
    "    print(f\"\"\"{init:10}| {a=:3} {b=:3} {q=:3} {r=:3} | {r:3} = {a:3} - {b:3} * {q:3}\"\"\")\n",
    "    if r == 1: return b\n",
    "    return gcd_extend(b, r, init=init+1)"
   ]
  },
  {
   "cell_type": "code",
   "execution_count": 33,
   "metadata": {},
   "outputs": [
    {
     "name": "stdout",
     "output_type": "stream",
     "text": [
      "         0| a=52341 b=15013 q=  3 r=7302 | 7302 = 52341 - 15013 *   3\n",
      "         1| a=15013 b=7302 q=  2 r=409 | 409 = 15013 - 7302 *   2\n",
      "         2| a=7302 b=409 q= 17 r=349 | 349 = 7302 - 409 *  17\n",
      "         3| a=409 b=349 q=  1 r= 60 |  60 = 409 - 349 *   1\n",
      "         4| a=349 b= 60 q=  5 r= 49 |  49 = 349 -  60 *   5\n",
      "         5| a= 60 b= 49 q=  1 r= 11 |  11 =  60 -  49 *   1\n",
      "         6| a= 49 b= 11 q=  4 r=  5 |   5 =  49 -  11 *   4\n",
      "         7| a= 11 b=  5 q=  2 r=  1 |   1 =  11 -   5 *   2\n"
     ]
    },
    {
     "data": {
      "text/plain": [
       "5"
      ]
     },
     "execution_count": 33,
     "metadata": {},
     "output_type": "execute_result"
    }
   ],
   "source": [
    "gcd_extend(15013, 52341)"
   ]
  },
  {
   "cell_type": "code",
   "execution_count": 34,
   "metadata": {},
   "outputs": [
    {
     "name": "stdout",
     "output_type": "stream",
     "text": [
      "         0| a= 56 b= 15 q=  3 r= 11 |  11 =  56 -  15 *   3\n",
      "         1| a= 15 b= 11 q=  1 r=  4 |   4 =  15 -  11 *   1\n",
      "         2| a= 11 b=  4 q=  2 r=  3 |   3 =  11 -   4 *   2\n",
      "         3| a=  4 b=  3 q=  1 r=  1 |   1 =   4 -   3 *   1\n"
     ]
    },
    {
     "data": {
      "text/plain": [
       "3"
      ]
     },
     "execution_count": 34,
     "metadata": {},
     "output_type": "execute_result"
    }
   ],
   "source": [
    "gcd_extend(56, 15)"
   ]
  },
  {
   "cell_type": "code",
   "execution_count": null,
   "metadata": {},
   "outputs": [],
   "source": []
  }
 ],
 "metadata": {
  "kernelspec": {
   "display_name": "crypto-venv",
   "language": "python",
   "name": "python3"
  },
  "language_info": {
   "codemirror_mode": {
    "name": "ipython",
    "version": 3
   },
   "file_extension": ".py",
   "mimetype": "text/x-python",
   "name": "python",
   "nbconvert_exporter": "python",
   "pygments_lexer": "ipython3",
   "version": "3.11.5"
  },
  "orig_nbformat": 4
 },
 "nbformat": 4,
 "nbformat_minor": 2
}
