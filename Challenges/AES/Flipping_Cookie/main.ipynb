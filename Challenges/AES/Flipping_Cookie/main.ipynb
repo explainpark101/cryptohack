{
 "cells": [
  {
   "cell_type": "code",
   "execution_count": 17,
   "metadata": {},
   "outputs": [],
   "source": [
    "import requests, json\n",
    "from urllib.parse import urlencode, quote\n",
    "from Crypto.Util.Padding import pad, unpad\n",
    "GET = lambda url: json.loads(requests.get(url).text)\n",
    "\n",
    "def Get_cookie():\n",
    "    return GET(\"https://aes.cryptohack.org/flipping_cookie/get_cookie/\").get(\"cookie\")\n",
    "def GetFlag(cookie, iv):\n",
    "    try:\n",
    "        res = GET(f\"https://aes.cryptohack.org/flipping_cookie/check_admin/{quote(cookie)}/{quote(iv)}/\")\n",
    "        return res\n",
    "    except:\n",
    "        return requests.get(f\"https://aes.cryptohack.org/flipping_cookie/check_admin/{quote(cookie)}/{quote(iv)}/\").text"
   ]
  },
  {
   "cell_type": "code",
   "execution_count": 2,
   "metadata": {},
   "outputs": [
    {
     "data": {
      "text/plain": [
       "{'cookie': 'de3255145442636c8a1e80b5f7bdd7964113b5acbb671802c6cdd08ddb8eb33e107da57638bc6a1645d91605f006a0a3'}"
      ]
     },
     "execution_count": 2,
     "metadata": {},
     "output_type": "execute_result"
    }
   ],
   "source": [
    "GET(\"https://aes.cryptohack.org/flipping_cookie/get_cookie/\")"
   ]
  },
  {
   "cell_type": "code",
   "execution_count": 14,
   "metadata": {},
   "outputs": [],
   "source": [
    "def hexToArray(hexstring):\n",
    "    return [int(hexstring[i:i+2], 16) for i in range(0, len(hexstring), 2)]\n",
    "    # return [int(_) for _ in (bytes.fromhex(hexstring) if isinstance(hexstring, str) else hexstring)]\n",
    "\n",
    "def bitwise_xor(str1, str2):\n",
    "    if isinstance(str1, str):\n",
    "        str1 = hexToArray(str1)\n",
    "    if isinstance(str2, str):\n",
    "        str2 = hexToArray(str2)\n",
    "    return [a^b for a, b in zip(str1, str2)]\n",
    "\n",
    "def bitwise_xors(*strs):\n",
    "    if len(strs) < 2: return None\n",
    "    tmp = strs[0]\n",
    "    for _str in strs[1:]:\n",
    "        tmp = bitwise_xor(_str, tmp)\n",
    "    return tmp\n",
    "\n",
    "def intList_to_str(intList):\n",
    "    return \"\".join((chr(_) for _ in intList))\n",
    "string = intList_to_str\n",
    "\n",
    "def intList_to_hex(intList):\n",
    "    return \"\".join(hex(_)[2:] for _ in intList)\n",
    "\n",
    "def slice_half(iter):\n",
    "    return iter[:len(iter)//2], iter[len(iter)//2:]"
   ]
  },
  {
   "cell_type": "code",
   "execution_count": 4,
   "metadata": {},
   "outputs": [],
   "source": [
    "COOKIE = Get_cookie()\n",
    "iv, cookie = COOKIE[:32], COOKIE[32:]"
   ]
  },
  {
   "cell_type": "code",
   "execution_count": 5,
   "metadata": {},
   "outputs": [
    {
     "data": {
      "text/plain": [
       "('21d1473db8d9e73520cabaa3ed8ec07f',\n",
       " '56ca12fc169806b510452f31709c5d218bb4f44dda2e43961de265125dd97873')"
      ]
     },
     "execution_count": 5,
     "metadata": {},
     "output_type": "execute_result"
    }
   ],
   "source": [
    "iv, cookie"
   ]
  },
  {
   "cell_type": "code",
   "execution_count": 21,
   "metadata": {},
   "outputs": [
    {
     "name": "stdout",
     "output_type": "stream",
     "text": [
      "03 56ca12fc169806b510452f31709c5d218bb4f44dda2e43961de265125dd97873 21d1473db8d9f52639dce49dec8fc17e\n"
     ]
    },
    {
     "data": {
      "text/plain": [
       "{'flag': 'crypto{4u7h3n71c4710n_15_3553n714l}'}"
      ]
     },
     "execution_count": 21,
     "metadata": {},
     "output_type": "execute_result"
    }
   ],
   "source": [
    "i = 3\n",
    "a = str(i).zfill(2)\n",
    "malicious = pad((f\"admin=True;\").encode(), 16)\n",
    "mal_iv_01 = bitwise_xor(malicious, iv)\n",
    "malicious_iv = intList_to_hex(bitwise_xor(pad((f\"admin=False;\").encode(), 16), mal_iv_01))\n",
    "print(a, cookie, malicious_iv)\n",
    "GetFlag(cookie, malicious_iv)"
   ]
  },
  {
   "cell_type": "code",
   "execution_count": 92,
   "metadata": {},
   "outputs": [
    {
     "data": {
      "text/plain": [
       "'NONE'"
      ]
     },
     "execution_count": 92,
     "metadata": {},
     "output_type": "execute_result"
    }
   ],
   "source": [
    "GetFlag(cookie, iv)"
   ]
  },
  {
   "cell_type": "code",
   "execution_count": 68,
   "metadata": {},
   "outputs": [
    {
     "data": {
      "text/plain": [
       "(([97, 100, 109, 105, 110, 61, 70, 97, 108, 115, 101, 59, 4, 4, 4, 4],\n",
       "  [16, 16, 16, 16, 16, 16, 16, 16, 16, 16, 16, 16, 16, 16, 16, 16]),\n",
       " [[163, 41, 4, 88, 8, 76, 120, 119, 28, 142, 126, 42, 128, 84, 203, 200],\n",
       "  [204, 185, 235, 130, 110, 236, 187, 55, 6, 205, 160, 48, 151, 195, 41, 109]],\n",
       " '36463ea67259b6227b1252fb68d5a133')"
      ]
     },
     "execution_count": 68,
     "metadata": {},
     "output_type": "execute_result"
    }
   ],
   "source": [
    "plaintext = hexToArray(pad(b\"admin=False;\", 16)), hexToArray(pad(b'', 16))\n",
    "ciphertext = [hexToArray(_) for _ in slice_half(cookie)]\n",
    "plaintext, ciphertext, iv"
   ]
  },
  {
   "cell_type": "code",
   "execution_count": 90,
   "metadata": {},
   "outputs": [
    {
     "data": {
      "text/plain": [
       "('a3290458084c78771c8e7e2a8054cbc8ccb9eb826eecbb3706cda03097c3296d',\n",
       " 'f4b579714289a2712f917d4ed846ffe')"
      ]
     },
     "execution_count": 90,
     "metadata": {},
     "output_type": "execute_result"
    }
   ],
   "source": [
    "malicious = pad(b\"admin=True;\", 16)\n",
    "\n",
    "cookie, intList_to_hex(bitwise_xors(ciphertext[0], malicious, iv))"
   ]
  },
  {
   "cell_type": "code",
   "execution_count": 91,
   "metadata": {},
   "outputs": [
    {
     "data": {
      "text/plain": [
       "31"
      ]
     },
     "execution_count": 91,
     "metadata": {},
     "output_type": "execute_result"
    }
   ],
   "source": [
    "len(\"f4b579714289a2712f917d4ed846ffe\")"
   ]
  },
  {
   "cell_type": "code",
   "execution_count": 80,
   "metadata": {},
   "outputs": [
    {
     "data": {
      "text/plain": [
       "'NONE'"
      ]
     },
     "execution_count": 80,
     "metadata": {},
     "output_type": "execute_result"
    }
   ],
   "source": [
    "GetFlag(cookie, intList_to_hex(bitwise_xors(plaintext[0], malicious,  iv)))"
   ]
  },
  {
   "cell_type": "code",
   "execution_count": 36,
   "metadata": {},
   "outputs": [
    {
     "ename": "TypeError",
     "evalue": "unsupported operand type(s) for ^: 'bytes' and 'int'",
     "output_type": "error",
     "traceback": [
      "\u001b[1;31m---------------------------------------------------------------------------\u001b[0m",
      "\u001b[1;31mTypeError\u001b[0m                                 Traceback (most recent call last)",
      "\u001b[1;32mc:\\projects\\cryptohack\\Challenges\\AES\\Flipping_Cookie\\main.ipynb 셀 6\u001b[0m line \u001b[0;36m1\n\u001b[1;32m----> <a href='vscode-notebook-cell:/c%3A/projects/cryptohack/Challenges/AES/Flipping_Cookie/main.ipynb#X16sZmlsZQ%3D%3D?line=0'>1</a>\u001b[0m bitwise_xor(ciphertext, iv)\n",
      "\u001b[1;32mc:\\projects\\cryptohack\\Challenges\\AES\\Flipping_Cookie\\main.ipynb 셀 6\u001b[0m line \u001b[0;36m1\n\u001b[0;32m      <a href='vscode-notebook-cell:/c%3A/projects/cryptohack/Challenges/AES/Flipping_Cookie/main.ipynb#X16sZmlsZQ%3D%3D?line=7'>8</a>\u001b[0m \u001b[39mif\u001b[39;00m \u001b[39misinstance\u001b[39m(str2, \u001b[39mstr\u001b[39m):\n\u001b[0;32m      <a href='vscode-notebook-cell:/c%3A/projects/cryptohack/Challenges/AES/Flipping_Cookie/main.ipynb#X16sZmlsZQ%3D%3D?line=8'>9</a>\u001b[0m     str2 \u001b[39m=\u001b[39m hexToArray(str2)\n\u001b[1;32m---> <a href='vscode-notebook-cell:/c%3A/projects/cryptohack/Challenges/AES/Flipping_Cookie/main.ipynb#X16sZmlsZQ%3D%3D?line=9'>10</a>\u001b[0m \u001b[39mreturn\u001b[39;00m [a\u001b[39m^\u001b[39;49mb \u001b[39mfor\u001b[39;00m a, b \u001b[39min\u001b[39;00m \u001b[39mzip\u001b[39m(str1, str2)]\n",
      "\u001b[1;31mTypeError\u001b[0m: unsupported operand type(s) for ^: 'bytes' and 'int'"
     ]
    }
   ],
   "source": [
    "bitwise_xor(ciphertext, iv)"
   ]
  },
  {
   "cell_type": "code",
   "execution_count": 29,
   "metadata": {},
   "outputs": [
    {
     "data": {
      "text/plain": [
       "[163, 5, 131, 75, 13, 132, 232, 235, 62, 123, 120, 159, 72, 41, 244, 130]"
      ]
     },
     "execution_count": 29,
     "metadata": {},
     "output_type": "execute_result"
    }
   ],
   "source": [
    "bitwise_xor(plaintext[1], cookie[0])"
   ]
  },
  {
   "cell_type": "code",
   "execution_count": 10,
   "metadata": {},
   "outputs": [],
   "source": [
    "cookies = slice_half(hexToArray(cookie))\n",
    "iv = hexToArray(iv)"
   ]
  },
  {
   "cell_type": "code",
   "execution_count": 11,
   "metadata": {},
   "outputs": [
    {
     "data": {
      "text/plain": [
       "[248, 22, 251, 45, 79, 245, 68, 181, 124, 182, 114, 195, 130, 102, 1, 227]"
      ]
     },
     "execution_count": 11,
     "metadata": {},
     "output_type": "execute_result"
    }
   ],
   "source": [
    "bitwise_xor(cookies[0], iv)"
   ]
  },
  {
   "cell_type": "code",
   "execution_count": 27,
   "metadata": {},
   "outputs": [
    {
     "name": "stdout",
     "output_type": "stream",
     "text": [
      "b'admin=True;;expiry=02\\x0b\\x0b\\x0b\\x0b\\x0b\\x0b\\x0b\\x0b\\x0b\\x0b\\x0b' b'\\x10\\x10\\x10\\x10\\x10\\x10\\x10\\x10\\x10\\x10\\x10\\x10\\x10\\x10\\x10\\x10'\n"
     ]
    },
    {
     "data": {
      "text/plain": [
       "[47, 225, 123, 151, 192, 127, 4, 142, 93, 149, 55, 136, 151, 56, 159, 98]"
      ]
     },
     "execution_count": 27,
     "metadata": {},
     "output_type": "execute_result"
    }
   ],
   "source": [
    "a=b\"admin=True;;expiry=02\"\n",
    "\n",
    "print(pad(a, 16), pad(b'', 16))\n",
    "bitwise_xor(pad(a, 16), iv)"
   ]
  },
  {
   "cell_type": "code",
   "execution_count": null,
   "metadata": {},
   "outputs": [],
   "source": []
  }
 ],
 "metadata": {
  "kernelspec": {
   "display_name": "crypto-venv",
   "language": "python",
   "name": "python3"
  },
  "language_info": {
   "codemirror_mode": {
    "name": "ipython",
    "version": 3
   },
   "file_extension": ".py",
   "mimetype": "text/x-python",
   "name": "python",
   "nbconvert_exporter": "python",
   "pygments_lexer": "ipython3",
   "version": "3.12.0"
  }
 },
 "nbformat": 4,
 "nbformat_minor": 2
}
