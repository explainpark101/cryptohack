{
 "cells": [
  {
   "cell_type": "code",
   "execution_count": 46,
   "metadata": {},
   "outputs": [],
   "source": [
    "\n",
    "def hextointList(hexstring):\n",
    "    return [int(hexstring[i:i+2], 16) for i in range(0, len(hexstring), 2)]\n",
    "\n",
    "def bitwise_xor(str1, str2):\n",
    "    if isinstance(str1, str):\n",
    "        str1 = hextointList(str1)\n",
    "    if isinstance(str2, str):\n",
    "        str2 = hextointList(str2)\n",
    "    return [a^b for a, b in zip(str1, str2)]\n",
    "\n",
    "def bitwise_xors(*strs):\n",
    "    if len(strs) < 2: return None\n",
    "    tmp = strs[0]\n",
    "    for _str in strs[1:]:\n",
    "        tmp = bitwise_xor(_str, tmp)\n",
    "    return tmp\n",
    "\n",
    "def intList_to_str(intList):\n",
    "    return \"\".join((chr(_) for _ in intList))\n",
    "\n",
    "def slice_half(iter):\n",
    "    return iter[:len(iter)//2], iter[len(iter)//2:]"
   ]
  },
  {
   "cell_type": "code",
   "execution_count": 40,
   "metadata": {},
   "outputs": [],
   "source": [
    "CIPHER_TEXT = \"78aba33c48cde9101c698a96ff66b3d4798594230780e4c248d811d0eda6de5e336bc5619f7e50efbda1fd25a399afbc\"\n",
    "PLAIN_TEXT = \"1bd9da4c3ca292237f0bd5a38a05d8e126b1e21336e4bbf37f8730f1cc87ff23\""
   ]
  },
  {
   "cell_type": "code",
   "execution_count": 47,
   "metadata": {},
   "outputs": [
    {
     "data": {
      "text/plain": [
       "[120, 171, 163, 60, 72, 205, 233, 16, 28, 105, 138, 150, 255, 102, 179, 212]"
      ]
     },
     "execution_count": 47,
     "metadata": {},
     "output_type": "execute_result"
    }
   ],
   "source": [
    "iv, cipher = hextointList(CIPHER_TEXT[:32]), slice_half(hextointList(CIPHER_TEXT[32:]))\n",
    "plain = slice_half(hextointList(PLAIN_TEXT))\n",
    "iv"
   ]
  },
  {
   "cell_type": "code",
   "execution_count": 48,
   "metadata": {},
   "outputs": [
    {
     "name": "stdout",
     "output_type": "stream",
     "text": [
      "plain  = ([27, 217, 218, 76, 60, 162, 146, 35, 127, 11, 213, 163, 138, 5, 216, 225], [38, 177, 226, 19, 54, 228, 187, 243, 127, 135, 48, 241, 204, 135, 255, 35])\n",
      "cipher = ([121, 133, 148, 35, 7, 128, 228, 194, 72, 216, 17, 208, 237, 166, 222, 94], [51, 107, 197, 97, 159, 126, 80, 239, 189, 161, 253, 37, 163, 153, 175, 188])\n",
      "iv     = [120, 171, 163, 60, 72, 205, 233, 16, 28, 105, 138, 150, 255, 102, 179, 212]\n"
     ]
    }
   ],
   "source": [
    "print(f\"\"\"\n",
    "{plain  = }\n",
    "{cipher = }\n",
    "{iv     = }\n",
    "\"\"\".strip())"
   ]
  },
  {
   "cell_type": "code",
   "execution_count": 49,
   "metadata": {},
   "outputs": [
    {
     "data": {
      "text/plain": [
       "'crypto{3cb_5uck5_4v01d_17_!!!!!}'"
      ]
     },
     "execution_count": 49,
     "metadata": {},
     "output_type": "execute_result"
    }
   ],
   "source": [
    "intList_to_str(bitwise_xors(iv, plain[0])) + intList_to_str(bitwise_xor(cipher[0], plain[1]))"
   ]
  },
  {
   "cell_type": "code",
   "execution_count": 19,
   "metadata": {},
   "outputs": [
    {
     "data": {
      "text/plain": [
       "32"
      ]
     },
     "execution_count": 19,
     "metadata": {},
     "output_type": "execute_result"
    }
   ],
   "source": []
  }
 ],
 "metadata": {
  "kernelspec": {
   "display_name": "crypto-venv",
   "language": "python",
   "name": "python3"
  },
  "language_info": {
   "codemirror_mode": {
    "name": "ipython",
    "version": 3
   },
   "file_extension": ".py",
   "mimetype": "text/x-python",
   "name": "python",
   "nbconvert_exporter": "python",
   "pygments_lexer": "ipython3",
   "version": "3.12.0"
  }
 },
 "nbformat": 4,
 "nbformat_minor": 2
}
