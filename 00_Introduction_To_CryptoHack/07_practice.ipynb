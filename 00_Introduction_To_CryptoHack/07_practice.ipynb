{
 "cells": [
  {
   "cell_type": "code",
   "execution_count": 22,
   "metadata": {},
   "outputs": [],
   "source": [
    "from codeserver import _print, xor, intJoin, xor_s\n",
    "from base64 import b64decode, b64encode"
   ]
  },
  {
   "cell_type": "code",
   "execution_count": 23,
   "metadata": {},
   "outputs": [],
   "source": [
    "MAGIC = \"c\""
   ]
  },
  {
   "cell_type": "code",
   "execution_count": 24,
   "metadata": {},
   "outputs": [],
   "source": [
    "string = \"0e0b213f26041e480b26217f27342e175d0e070a3c5b103e2526217f27342e175d0e077e263451150104\"\n",
    "string = bytes.fromhex(string)\n",
    "_string = b64encode(string)"
   ]
  },
  {
   "cell_type": "code",
   "execution_count": 25,
   "metadata": {},
   "outputs": [
    {
     "name": "stdout",
     "output_type": "stream",
     "text": [
      "i=   39 tmp='c@TOw^~boL@kmNa\\x08m]vRa\\x16\\x17hePH\\x1fp_f\\x0cmt~OA^D\\x17kOCCc@C\\x0cmMuuavbb'\n",
      "i=  109 _tmp='cfLRKis%fKL\\x12JYCz0cjgQ6}SHKL\\x12JYCz0cj\\x13KY<xli'\n",
      "i= 9999\r"
     ]
    }
   ],
   "source": [
    "for i in range(10000):\n",
    "    tmp = intJoin((xor_s(_string, i)))\n",
    "    _tmp = intJoin((xor_s(string, i)))\n",
    "    if tmp.startswith(MAGIC):\n",
    "        print(f\"{i=:5} {tmp=}\")\n",
    "    if _tmp.startswith(MAGIC):\n",
    "        print(f\"{i=:5} {_tmp=}\")\n",
    "    if not _tmp.startswith(MAGIC) and not tmp.startswith(MAGIC):\n",
    "        print(f\"{i=:5}\", end=\"\\r\")"
   ]
  },
  {
   "cell_type": "code",
   "execution_count": 26,
   "metadata": {},
   "outputs": [
    {
     "name": "stdout",
     "output_type": "stream",
     "text": [
      "i=   21 tmp='rf}ElLP]~rY_|S:_oD`S$%ZWbz-BmT>_FL}slv%Y}qqQrq>_\\x7fGGSDPP'\n",
      "i=  121 _tmp='rXF_}g1r_X\\x06^MWn$w~sE\"iG\\\\_X\\x06^MWn$w~\\x07_M(lx}'\n",
      "i= 9999\r"
     ]
    }
   ],
   "source": [
    "MAGIC = \"r\"\n",
    "for i in range(10000):\n",
    "    tmp = intJoin((xor_s(_string, i)))[1:]\n",
    "    _tmp = intJoin((xor_s(string, i)))[1:]\n",
    "    if tmp.startswith(MAGIC):\n",
    "        print(f\"{i=:5} {tmp=}\")\n",
    "    if _tmp.startswith(MAGIC):\n",
    "        print(f\"{i=:5} {_tmp=}\")\n",
    "    if not _tmp.startswith(MAGIC) and not tmp.startswith(MAGIC):\n",
    "        print(f\"{i=:5}\", end=\"\\r\")"
   ]
  },
  {
   "cell_type": "code",
   "execution_count": 27,
   "metadata": {},
   "outputs": [
    {
     "name": "stdout",
     "output_type": "stream",
     "text": [
      "i=   39 tmp='c@TOw^~boL@kmNa\\x08m]vRa\\x16\\x17hePH\\x1fp_f\\x0cmt~OA^D\\x17kOCCc@C\\x0cmMuuavbb'\n",
      "i=  109 _tmp='cfLRKis%fKL\\x12JYCz0cjgQ6}SHKL\\x12JYCz0cj\\x13KY<xli'\n",
      "i=   21 tmp='rf}ElLP]~rY_|S:_oD`S$%ZWbz-BmT>_FL}slv%Y}qqQrq>_\\x7fGGSDPP'\n",
      "i=  121 _tmp='rXF_}g1r_X\\x06^MWn$w~sE\"iG\\\\_X\\x06^MWn$w~\\x07_M(lx}'\n",
      "i=   10 tmp='ybZsSOBamF@cL%@p[\\x7fL;:EH}e2]rK!@YSblsi:FbnnNmn!@`XXL[OO'\n",
      "i=   88 _tmp=\"yg~\\\\F\\x10S~y'\\x7flvO\\x05V_Rd\\x03Hf}~y'\\x7flvO\\x05V_&~l\\tMY\\\\\"\n",
      "i=   24 tmp='pHaA]Ps\\x7fTRq^7RbIm^)(WZow O`Y3RKAp~a{(Tp||\\\\\\x7f|3RrJJ^I]]'\n",
      "i=   79 _tmp='piKQ\\x07Din0h{aX\\x12AHEs\\x14_qjin0h{aX\\x12AH1i{\\x1eZNK'\n",
      "i=   36 tmp='t]}alOChnMb\\x0bn^uQb\\x15\\x14kfSK\\x1cs\\\\e\\x0fnw}LB]G\\x14hL@@`C@\\x0fnNvvbuaa'\n",
      "i=   82 _tmp='tVL\\x1aYts-uf|E\\x0f\\\\UXn\\tBlwts-uf|E\\x0f\\\\U,tf\\x03GSV'\n",
      "i=   22 tmp=\"oOS^}qZ\\\\\\x7fP9\\\\lGcP'&YTay.AnW=\\\\EO~pou&Z~rrRqr=\\\\|DDPGSS\"\n",
      "i=  107 _tmp='ou#`MJ\\x14L_E|6elaW0{UNMJ\\x14L_E|6el\\x15M_:~jo'\n",
      "i=   34 tmp='{gjIEnhKd\\rhXsWd\\x13\\x12m`UM\\x1auZc\\thq{JD[A\\x12nJFFfEF\\thHppdsgg'\n",
      "i=  101 _tmp='{-nCD\\x1aBQKr8kboY>u[@CD\\x1aBQKr8kb\\x1bCQ4pda'\n",
      "i= 9999\r"
     ]
    }
   ],
   "source": [
    "MAGIC_STRING = \"crypto{\"\n",
    "b64_keys = []\n",
    "nb64keys = []\n",
    "for j, MAGIC in enumerate(MAGIC_STRING):\n",
    "    for i in range(10000):\n",
    "        tmp = intJoin((xor_s(_string, i)))[j:]\n",
    "        _tmp = intJoin((xor_s(string, i)))[j:]\n",
    "        if tmp.startswith(MAGIC):\n",
    "            b64_keys.append(i)\n",
    "            print(f\"{i=:5} {tmp=}\")\n",
    "        if _tmp.startswith(MAGIC):\n",
    "            nb64keys.append(i)\n",
    "            print(f\"{i=:5} {_tmp=}\")\n",
    "        if not _tmp.startswith(MAGIC) and not tmp.startswith(MAGIC):\n",
    "            print(f\"{i=:5}\", end=\"\\r\")"
   ]
  },
  {
   "cell_type": "code",
   "execution_count": 28,
   "metadata": {},
   "outputs": [
    {
     "data": {
      "text/plain": [
       "([39, 21, 10, 24, 36, 22, 34], [109, 121, 88, 79, 82, 107, 101])"
      ]
     },
     "execution_count": 28,
     "metadata": {},
     "output_type": "execute_result"
    }
   ],
   "source": [
    "b64_keys, nb64keys"
   ]
  },
  {
   "cell_type": "code",
   "execution_count": 31,
   "metadata": {},
   "outputs": [
    {
     "name": "stdout",
     "output_type": "stream",
     "text": [
      "cfLRKis%fKL\u0012JYCz0cjgQ6}SHKL\u0012JYCz0cj\u0013KY<xli\n",
      "wrXF_}g1r_X\u0006^MWn$w~sE\"iG\\_X\u0006^MWn$w~\u0007_M(lx}\n",
      "VSyg~\\F\u0010S~y'lvO\u0005V_Rd\u0003Hf}~y'lvO\u0005V_&~l\tMY\\\n",
      "ADnpiKQ\u0007Din0h{aX\u0012AHEs\u0014_qjin0h{aX\u0012AH1i{\u001eZNK\n",
      "\\YsmtVL\u001aYts-uf|E\u000f\\UXn\tBlwts-uf|E\u000f\\U,tf\u0003GSV\n",
      "e`JTMou#`MJ\u0014L_E|6elaW0{UNMJ\u0014L_E|6el\u0015M_:~jo\n",
      "knDZCa{-nCD\u001aBQKr8kboY>u[@CD\u001aBQKr8kb\u001bCQ4pda\n"
     ]
    }
   ],
   "source": [
    "for i in nb64keys:\n",
    "    _tmp = intJoin((xor_s(string, i)))\n",
    "    print(_tmp)"
   ]
  },
  {
   "cell_type": "code",
   "execution_count": 33,
   "metadata": {},
   "outputs": [
    {
     "data": {
      "text/plain": [
       "(42, 7)"
      ]
     },
     "execution_count": 33,
     "metadata": {},
     "output_type": "execute_result"
    }
   ],
   "source": [
    "len(_tmp), len(nb64keys)"
   ]
  },
  {
   "cell_type": "code",
   "execution_count": 39,
   "metadata": {},
   "outputs": [
    {
     "data": {
      "text/plain": [
       "[109, 121, 88, 79, 82, 107, 101, 121]"
      ]
     },
     "execution_count": 39,
     "metadata": {},
     "output_type": "execute_result"
    }
   ],
   "source": [
    "nb64keys.append(121)\n",
    "nb64keys"
   ]
  },
  {
   "cell_type": "code",
   "execution_count": 41,
   "metadata": {},
   "outputs": [
    {
     "name": "stdout",
     "output_type": "stream",
     "text": [
      "crypto{1f_y0u_Kn0w_En0uGH_y0u_Kn0w_1t_4ll}"
     ]
    }
   ],
   "source": [
    "for x in range(42):\n",
    "    idx = x % 8\n",
    "    _ = chr((string[x] ^ nb64keys[idx]))\n",
    "    print(_, end=\"\")"
   ]
  },
  {
   "cell_type": "code",
   "execution_count": 37,
   "metadata": {},
   "outputs": [
    {
     "name": "stdout",
     "output_type": "stream",
     "text": [
      "121 }\n"
     ]
    }
   ],
   "source": [
    "for i in range(10000):\n",
    "    _tmp = intJoin((xor_s(string, i)))[-1:]\n",
    "    if _tmp.startswith(\"}\"):\n",
    "        print(i, _tmp)"
   ]
  }
 ],
 "metadata": {
  "kernelspec": {
   "display_name": "Python 3",
   "language": "python",
   "name": "python3"
  },
  "language_info": {
   "codemirror_mode": {
    "name": "ipython",
    "version": 3
   },
   "file_extension": ".py",
   "mimetype": "text/x-python",
   "name": "python",
   "nbconvert_exporter": "python",
   "pygments_lexer": "ipython3",
   "version": "3.11.5"
  },
  "orig_nbformat": 4
 },
 "nbformat": 4,
 "nbformat_minor": 2
}
